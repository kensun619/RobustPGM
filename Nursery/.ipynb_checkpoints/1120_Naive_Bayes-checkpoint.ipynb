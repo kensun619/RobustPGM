{
 "cells": [
  {
   "cell_type": "code",
   "execution_count": 1,
   "metadata": {},
   "outputs": [],
   "source": [
    "import numpy as np"
   ]
  },
  {
   "cell_type": "code",
   "execution_count": 3,
   "metadata": {},
   "outputs": [],
   "source": [
    "lines = [line.rstrip('\\n') for line in open('nursery.data.txt')]"
   ]
  },
  {
   "cell_type": "code",
   "execution_count": 8,
   "metadata": {},
   "outputs": [
    {
     "name": "stdout",
     "output_type": "stream",
     "text": [
      "usual,proper,complete,1,convenient,convenient,nonprob,recommended,recommend\n",
      "['usual', 'proper', 'complete', '1', 'convenient', 'convenient', 'nonprob', 'recommended', 'recommend']\n"
     ]
    }
   ],
   "source": [
    "print(lines[0])\n",
    "row = lines[0].split(',')\n",
    "print(row)"
   ]
  },
  {
   "cell_type": "code",
   "execution_count": 6,
   "metadata": {},
   "outputs": [],
   "source": [
    "attr_names = ['parents', 'has_nurs', 'form', 'children', 'housing', 'finance', 'social', 'health']"
   ]
  },
  {
   "cell_type": "code",
   "execution_count": 26,
   "metadata": {},
   "outputs": [
    {
     "name": "stdout",
     "output_type": "stream",
     "text": [
      "\n"
     ]
    }
   ],
   "source": [
    "attr_list = [['usual', 'pretentious','great_pret'],\n",
    "['proper','less_proper','improper','critical','very_crit'],\n",
    "['complete', 'completed', 'incomplete', 'foster'],\n",
    "['1', '2', '3', 'more'],\n",
    "['convenient', 'less_conv', 'critical'],\n",
    "['convenient', 'inconv'],\n",
    "['nonprob', 'slightly_prob', 'problematic'],\n",
    "['recommended', 'priority', 'not_recom'],\n",
    "['not_recom', 'recommend', 'very_recom', 'priority', 'spec_prior']]"
   ]
  },
  {
   "cell_type": "code",
   "execution_count": 77,
   "metadata": {},
   "outputs": [
    {
     "name": "stdout",
     "output_type": "stream",
     "text": [
      "(12630, 9)\n"
     ]
    }
   ],
   "source": [
    "data = []\n",
    "for i in range(len(lines)-1):\n",
    "    row = lines[i].split(',')\n",
    "#     print(row)\n",
    "    sample = []\n",
    "    for j in range(len(row)):\n",
    "#         print(attr_list[j])\n",
    "#         print(row[j])\n",
    "        sample.append(attr_list[j].index(row[j]))\n",
    "#     print(sample)\n",
    "    if sample[8] != 2 and sample[8] != 1:\n",
    "        data.append(sample)\n",
    "#     data.append(sample)\n",
    "data = np.asarray(data)\n",
    "print(data.shape)"
   ]
  },
  {
   "cell_type": "code",
   "execution_count": 65,
   "metadata": {},
   "outputs": [
    {
     "name": "stdout",
     "output_type": "stream",
     "text": [
      "Number of mislabeled points out of a total 12630 points : 8586\n"
     ]
    }
   ],
   "source": [
    "from sklearn.naive_bayes import GaussianNB, MultinomialNB\n",
    "feature = data[:,0:8]\n",
    "label = data[:,8].reshape(-1, 1)\n",
    "\n",
    "gnb = GaussianNB()\n",
    "y_pred = gnb.fit(feature, label).predict(label).reshape(-1, 1)\n",
    "print(\"Number of mislabeled points out of a total %d points : %d\"\n",
    "      % (feature.shape[0],(label != y_pred).sum()))"
   ]
  },
  {
   "cell_type": "code",
   "execution_count": 66,
   "metadata": {},
   "outputs": [
    {
     "name": "stdout",
     "output_type": "stream",
     "text": [
      "Number of mislabeled points out of a total 12630 points : 3059\n"
     ]
    },
    {
     "data": {
      "text/plain": [
       "array([[4275,   45,    0],\n",
       "       [ 910, 2456,  900],\n",
       "       [ 165, 1039, 2840]])"
      ]
     },
     "execution_count": 66,
     "metadata": {},
     "output_type": "execute_result"
    }
   ],
   "source": [
    "import numpy as np\n",
    "feature = data[:,0:8]\n",
    "label = data[:,8].reshape(-1, 1)\n",
    "\n",
    "from sklearn.naive_bayes import MultinomialNB\n",
    "clf = MultinomialNB()\n",
    "clf.fit(feature, label)\n",
    "\n",
    "y_pred = clf.predict(feature).reshape(-1, 1)\n",
    "\n",
    "print(\"Number of mislabeled points out of a total %d points : %d\"\n",
    "      % (feature.shape[0],(label != y_pred).sum()))\n",
    "\n",
    "from sklearn.metrics import confusion_matrix\n",
    "confusion_matrix(label, y_pred)"
   ]
  },
  {
   "cell_type": "code",
   "execution_count": 79,
   "metadata": {},
   "outputs": [
    {
     "name": "stdout",
     "output_type": "stream",
     "text": [
      "Number of mislabeled points out of a total 12630 points : 945\n"
     ]
    },
    {
     "name": "stderr",
     "output_type": "stream",
     "text": [
      "/Users/Deep_Learning/anaconda3/envs/dl_basic/lib/python2.7/site-packages/sklearn/svm/base.py:922: ConvergenceWarning: Liblinear failed to converge, increase the number of iterations.\n",
      "  \"the number of iterations.\", ConvergenceWarning)\n"
     ]
    },
    {
     "data": {
      "text/plain": [
       "array([[4320,    0,    0],\n",
       "       [   0, 3871,  395],\n",
       "       [   0,  550, 3494]])"
      ]
     },
     "execution_count": 79,
     "metadata": {},
     "output_type": "execute_result"
    }
   ],
   "source": [
    "from sklearn import svm\n",
    "\n",
    "feature = data[:,0:8]\n",
    "label = data[:,8].reshape(-1, 1)\n",
    "\n",
    "X = feature\n",
    "Y = label\n",
    "# clf = svm.SVC(gamma='scale', decision_function_shape='ovo')\n",
    "clf = svm.LinearSVC()\n",
    "clf.fit(X, Y) \n",
    "\n",
    "y_pred = clf.predict(feature).reshape(-1, 1)\n",
    "\n",
    "print(\"Number of mislabeled points out of a total %d points : %d\"\n",
    "      % (feature.shape[0],(label != y_pred).sum()))\n",
    "\n",
    "from sklearn.metrics import confusion_matrix\n",
    "confusion_matrix(label, y_pred)"
   ]
  },
  {
   "cell_type": "code",
   "execution_count": null,
   "metadata": {},
   "outputs": [],
   "source": []
  }
 ],
 "metadata": {
  "kernelspec": {
   "display_name": "Python 3",
   "language": "python",
   "name": "python3"
  },
  "language_info": {
   "codemirror_mode": {
    "name": "ipython",
    "version": 2
   },
   "file_extension": ".py",
   "mimetype": "text/x-python",
   "name": "python",
   "nbconvert_exporter": "python",
   "pygments_lexer": "ipython2",
   "version": "2.7.15"
  }
 },
 "nbformat": 4,
 "nbformat_minor": 2
}
