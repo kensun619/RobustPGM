{
 "cells": [
  {
   "cell_type": "code",
   "execution_count": 1,
   "metadata": {},
   "outputs": [],
   "source": [
    "import numpy as np"
   ]
  },
  {
   "cell_type": "code",
   "execution_count": 3,
   "metadata": {},
   "outputs": [],
   "source": [
    "lines = [line.rstrip('\\n') for line in open('nursery.data.txt')]"
   ]
  },
  {
   "cell_type": "code",
   "execution_count": 8,
   "metadata": {},
   "outputs": [
    {
     "name": "stdout",
     "output_type": "stream",
     "text": [
      "usual,proper,complete,1,convenient,convenient,nonprob,recommended,recommend\n",
      "['usual', 'proper', 'complete', '1', 'convenient', 'convenient', 'nonprob', 'recommended', 'recommend']\n"
     ]
    }
   ],
   "source": [
    "print(lines[0])\n",
    "row = lines[0].split(',')\n",
    "print(row)"
   ]
  },
  {
   "cell_type": "code",
   "execution_count": 6,
   "metadata": {},
   "outputs": [],
   "source": [
    "attr_names = ['parents', 'has_nurs', 'form', 'children', 'housing', 'finance', 'social', 'health']"
   ]
  },
  {
   "cell_type": "code",
   "execution_count": 26,
   "metadata": {},
   "outputs": [
    {
     "name": "stdout",
     "output_type": "stream",
     "text": [
      "\n"
     ]
    }
   ],
   "source": [
    "attr_list = [['usual', 'pretentious','great_pret'],\n",
    "['proper','less_proper','improper','critical','very_crit'],\n",
    "['complete', 'completed', 'incomplete', 'foster'],\n",
    "['1', '2', '3', 'more'],\n",
    "['convenient', 'less_conv', 'critical'],\n",
    "['convenient', 'inconv'],\n",
    "['nonprob', 'slightly_prob', 'problematic'],\n",
    "['recommended', 'priority', 'not_recom'],\n",
    "['not_recom', 'recommend', 'very_recom', 'priority', 'spec_prior']]"
   ]
  },
  {
   "cell_type": "code",
   "execution_count": 27,
   "metadata": {},
   "outputs": [],
   "source": [
    "data = []\n",
    "for i in range(len(lines)-1):\n",
    "    row = lines[i].split(',')\n",
    "#     print(row)\n",
    "    sample = []\n",
    "    for j in range(len(row)):\n",
    "#         print(attr_list[j])\n",
    "#         print(row[j])\n",
    "        sample.append(attr_list[j].index(row[j]))\n",
    "#     print(sample)\n",
    "    data.append(sample)\n",
    "data = np.asarray(data)"
   ]
  },
  {
   "cell_type": "code",
   "execution_count": 12,
   "metadata": {},
   "outputs": [
    {
     "name": "stdout",
     "output_type": "stream",
     "text": [
      "Number of mislabeled points out of a total 150 points : 6\n"
     ]
    }
   ],
   "source": [
    "from sklearn import datasets\n",
    "iris = datasets.load_iris()\n",
    "from sklearn.naive_bayes import GaussianNB\n",
    "gnb = GaussianNB()\n",
    "y_pred = gnb.fit(iris.data, iris.target).predict(iris.data)\n",
    "print(\"Number of mislabeled points out of a total %d points : %d\"\n",
    "      % (iris.data.shape[0],(iris.target != y_pred).sum()))"
   ]
  },
  {
   "cell_type": "code",
   "execution_count": 32,
   "metadata": {},
   "outputs": [
    {
     "name": "stdout",
     "output_type": "stream",
     "text": [
      "(150,)\n"
     ]
    }
   ],
   "source": [
    "print(iris.target.shape)"
   ]
  },
  {
   "cell_type": "code",
   "execution_count": 28,
   "metadata": {},
   "outputs": [
    {
     "name": "stdout",
     "output_type": "stream",
     "text": [
      "[[0 0 0 ... 0 0 1]\n",
      " [0 0 0 ... 0 1 3]\n",
      " [0 0 0 ... 0 2 0]\n",
      " ...\n",
      " [2 4 3 ... 2 0 4]\n",
      " [2 4 3 ... 2 1 4]\n",
      " [2 4 3 ... 2 2 0]]\n"
     ]
    }
   ],
   "source": [
    "print(data)"
   ]
  },
  {
   "cell_type": "code",
   "execution_count": 29,
   "metadata": {
    "scrolled": true
   },
   "outputs": [
    {
     "name": "stdout",
     "output_type": "stream",
     "text": [
      "(12960, 9)\n"
     ]
    }
   ],
   "source": [
    "print(data.shape)"
   ]
  },
  {
   "cell_type": "code",
   "execution_count": 57,
   "metadata": {},
   "outputs": [
    {
     "name": "stdout",
     "output_type": "stream",
     "text": [
      "Number of mislabeled points out of a total 12960 points : 8916\n"
     ]
    }
   ],
   "source": [
    "from sklearn.naive_bayes import GaussianNB, MultinomialNB\n",
    "feature = data[:,0:8]\n",
    "label = data[:,8].reshape(-1, 1)\n",
    "\n",
    "gnb = GaussianNB()\n",
    "y_pred = gnb.fit(feature, label).predict(label).reshape(-1, 1)\n",
    "print(\"Number of mislabeled points out of a total %d points : %d\"\n",
    "      % (feature.shape[0],(label != y_pred).sum()))"
   ]
  },
  {
   "cell_type": "code",
   "execution_count": 56,
   "metadata": {},
   "outputs": [
    {
     "name": "stdout",
     "output_type": "stream",
     "text": [
      "Number of mislabeled points out of a total 12960 points : 3389\n"
     ]
    }
   ],
   "source": [
    "import numpy as np\n",
    "feature = data[:,0:8]\n",
    "label = data[:,8].reshape(-1, 1)\n",
    "\n",
    "from sklearn.naive_bayes import MultinomialNB\n",
    "clf = MultinomialNB()\n",
    "clf.fit(feature, label)\n",
    "\n",
    "y_pred = clf.predict(feature).reshape(-1, 1)\n",
    "\n",
    "print(\"Number of mislabeled points out of a total %d points : %d\"\n",
    "      % (feature.shape[0],(label != y_pred).sum()))"
   ]
  },
  {
   "cell_type": "code",
   "execution_count": 58,
   "metadata": {},
   "outputs": [
    {
     "name": "stdout",
     "output_type": "stream",
     "text": [
      "Number of mislabeled points out of a total 150 points : 6\n"
     ]
    }
   ],
   "source": [
    "from sklearn import datasets\n",
    "iris = datasets.load_iris()\n",
    "from sklearn.naive_bayes import GaussianNB\n",
    "gnb = GaussianNB()\n",
    "y_pred = gnb.fit(iris.data, iris.target).predict(iris.data)\n",
    "print(\"Number of mislabeled points out of a total %d points : %d\"\n",
    "      % (iris.data.shape[0],(iris.target != y_pred).sum()))"
   ]
  },
  {
   "cell_type": "code",
   "execution_count": null,
   "metadata": {},
   "outputs": [],
   "source": []
  }
 ],
 "metadata": {
  "kernelspec": {
   "display_name": "Python 3",
   "language": "python",
   "name": "python3"
  },
  "language_info": {
   "codemirror_mode": {
    "name": "ipython",
    "version": 2
   },
   "file_extension": ".py",
   "mimetype": "text/x-python",
   "name": "python",
   "nbconvert_exporter": "python",
   "pygments_lexer": "ipython2",
   "version": "2.7.15"
  }
 },
 "nbformat": 4,
 "nbformat_minor": 2
}
