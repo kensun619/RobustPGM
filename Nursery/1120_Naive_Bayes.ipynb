{
 "cells": [
  {
   "cell_type": "code",
   "execution_count": 1,
   "metadata": {},
   "outputs": [],
   "source": [
    "import numpy as np"
   ]
  },
  {
   "cell_type": "code",
   "execution_count": 3,
   "metadata": {},
   "outputs": [],
   "source": [
    "lines = [line.rstrip('\\n') for line in open('nursery.data.txt')]"
   ]
  },
  {
   "cell_type": "code",
   "execution_count": 8,
   "metadata": {},
   "outputs": [
    {
     "name": "stdout",
     "output_type": "stream",
     "text": [
      "usual,proper,complete,1,convenient,convenient,nonprob,recommended,recommend\n",
      "['usual', 'proper', 'complete', '1', 'convenient', 'convenient', 'nonprob', 'recommended', 'recommend']\n"
     ]
    }
   ],
   "source": [
    "print(lines[0])\n",
    "row = lines[0].split(',')\n",
    "print(row)"
   ]
  },
  {
   "cell_type": "code",
   "execution_count": 6,
   "metadata": {},
   "outputs": [],
   "source": [
    "attr_names = ['parents', 'has_nurs', 'form', 'children', 'housing', 'finance', 'social', 'health']"
   ]
  },
  {
   "cell_type": "code",
   "execution_count": 26,
   "metadata": {},
   "outputs": [
    {
     "name": "stdout",
     "output_type": "stream",
     "text": [
      "\n"
     ]
    }
   ],
   "source": [
    "attr_list = [['usual', 'pretentious','great_pret'],\n",
    "['proper','less_proper','improper','critical','very_crit'],\n",
    "['complete', 'completed', 'incomplete', 'foster'],\n",
    "['1', '2', '3', 'more'],\n",
    "['convenient', 'less_conv', 'critical'],\n",
    "['convenient', 'inconv'],\n",
    "['nonprob', 'slightly_prob', 'problematic'],\n",
    "['recommended', 'priority', 'not_recom'],\n",
    "['not_recom', 'recommend', 'very_recom', 'priority', 'spec_prior']]"
   ]
  },
  {
   "cell_type": "code",
   "execution_count": 74,
   "metadata": {},
   "outputs": [
    {
     "name": "stdout",
     "output_type": "stream",
     "text": [
      "(12960, 9)\n"
     ]
    }
   ],
   "source": [
    "data = []\n",
    "for i in range(len(lines)-1):\n",
    "    row = lines[i].split(',')\n",
    "#     print(row)\n",
    "    sample = []\n",
    "    for j in range(len(row)):\n",
    "#         print(attr_list[j])\n",
    "#         print(row[j])\n",
    "        sample.append(attr_list[j].index(row[j]))\n",
    "#     print(sample)\n",
    "    if sample[8] != 2 and sample[8] != 1:\n",
    "        data.append(sample)\n",
    "#     data.append(sample)\n",
    "data = np.asarray(data)\n",
    "print(data.shape)"
   ]
  },
  {
   "cell_type": "code",
   "execution_count": null,
   "metadata": {},
   "outputs": [],
   "source": []
  },
  {
   "cell_type": "code",
   "execution_count": 65,
   "metadata": {},
   "outputs": [
    {
     "name": "stdout",
     "output_type": "stream",
     "text": [
      "Number of mislabeled points out of a total 12630 points : 8586\n"
     ]
    }
   ],
   "source": [
    "from sklearn.naive_bayes import GaussianNB, MultinomialNB\n",
    "feature = data[:,0:8]\n",
    "label = data[:,8].reshape(-1, 1)\n",
    "\n",
    "gnb = GaussianNB()\n",
    "y_pred = gnb.fit(feature, label).predict(label).reshape(-1, 1)\n",
    "print(\"Number of mislabeled points out of a total %d points : %d\"\n",
    "      % (feature.shape[0],(label != y_pred).sum()))"
   ]
  },
  {
   "cell_type": "code",
   "execution_count": 66,
   "metadata": {},
   "outputs": [
    {
     "name": "stdout",
     "output_type": "stream",
     "text": [
      "Number of mislabeled points out of a total 12630 points : 3059\n"
     ]
    },
    {
     "data": {
      "text/plain": [
       "array([[4275,   45,    0],\n",
       "       [ 910, 2456,  900],\n",
       "       [ 165, 1039, 2840]])"
      ]
     },
     "execution_count": 66,
     "metadata": {},
     "output_type": "execute_result"
    }
   ],
   "source": [
    "import numpy as np\n",
    "feature = data[:,0:8]\n",
    "label = data[:,8].reshape(-1, 1)\n",
    "\n",
    "from sklearn.naive_bayes import MultinomialNB\n",
    "clf = MultinomialNB()\n",
    "clf.fit(feature, label)\n",
    "\n",
    "y_pred = clf.predict(feature).reshape(-1, 1)\n",
    "\n",
    "print(\"Number of mislabeled points out of a total %d points : %d\"\n",
    "      % (feature.shape[0],(label != y_pred).sum()))\n",
    "\n",
    "from sklearn.metrics import confusion_matrix\n",
    "confusion_matrix(label, y_pred)"
   ]
  },
  {
   "cell_type": "code",
   "execution_count": 76,
   "metadata": {},
   "outputs": [
    {
     "name": "stdout",
     "output_type": "stream",
     "text": [
      "Number of mislabeled points out of a total 12960 points : 141\n"
     ]
    },
    {
     "data": {
      "text/plain": [
       "array([[4320,    0,    0,    0,    0],\n",
       "       [   0,    0,    2,    0,    0],\n",
       "       [   0,    0,  303,   25,    0],\n",
       "       [   0,    0,    5, 4187,   74],\n",
       "       [   0,    0,    0,   35, 4009]])"
      ]
     },
     "execution_count": 76,
     "metadata": {},
     "output_type": "execute_result"
    }
   ],
   "source": [
    "from sklearn import svm\n",
    "\n",
    "feature = data[:,0:8]\n",
    "label = data[:,8].reshape(-1, 1)\n",
    "\n",
    "X = feature\n",
    "Y = label\n",
    "clf = svm.SVC(gamma='scale', decision_function_shape='ovo')\n",
    "clf.fit(X, Y) \n",
    "\n",
    "y_pred = clf.predict(feature).reshape(-1, 1)\n",
    "\n",
    "print(\"Number of mislabeled points out of a total %d points : %d\"\n",
    "      % (feature.shape[0],(label != y_pred).sum()))\n",
    "\n",
    "from sklearn.metrics import confusion_matrix\n",
    "confusion_matrix(label, y_pred)"
   ]
  },
  {
   "cell_type": "code",
   "execution_count": null,
   "metadata": {},
   "outputs": [],
   "source": []
  },
  {
   "cell_type": "code",
   "execution_count": 69,
   "metadata": {},
   "outputs": [
    {
     "data": {
      "text/plain": [
       "SVC(C=1.0, cache_size=200, class_weight=None, coef0=0.0,\n",
       "  decision_function_shape='ovo', degree=3, gamma='scale', kernel='rbf',\n",
       "  max_iter=-1, probability=False, random_state=None, shrinking=True,\n",
       "  tol=0.001, verbose=False)"
      ]
     },
     "execution_count": 69,
     "metadata": {},
     "output_type": "execute_result"
    }
   ],
   "source": [
    "from sklearn import svm\n",
    "\n",
    "X = [[0], [1], [2], [3]]\n",
    "Y = [0, 1, 2, 3]\n",
    "clf = svm.SVC(gamma='scale', decision_function_shape='ovo')\n",
    "clf.fit(X, Y) "
   ]
  },
  {
   "cell_type": "code",
   "execution_count": 70,
   "metadata": {},
   "outputs": [
    {
     "data": {
      "text/plain": [
       "6"
      ]
     },
     "execution_count": 70,
     "metadata": {},
     "output_type": "execute_result"
    }
   ],
   "source": [
    "dec = clf.decision_function([[1]])\n",
    "dec.shape[1] # 4 classes: 4*3/2 = 6"
   ]
  },
  {
   "cell_type": "code",
   "execution_count": 71,
   "metadata": {},
   "outputs": [
    {
     "data": {
      "text/plain": [
       "4"
      ]
     },
     "execution_count": 71,
     "metadata": {},
     "output_type": "execute_result"
    }
   ],
   "source": [
    "clf.decision_function_shape = \"ovr\"\n",
    "dec = clf.decision_function([[1]])\n",
    "dec.shape[1] # 4 classes"
   ]
  },
  {
   "cell_type": "code",
   "execution_count": null,
   "metadata": {},
   "outputs": [],
   "source": []
  }
 ],
 "metadata": {
  "kernelspec": {
   "display_name": "Python 3",
   "language": "python",
   "name": "python3"
  },
  "language_info": {
   "codemirror_mode": {
    "name": "ipython",
    "version": 2
   },
   "file_extension": ".py",
   "mimetype": "text/x-python",
   "name": "python",
   "nbconvert_exporter": "python",
   "pygments_lexer": "ipython2",
   "version": "2.7.15"
  }
 },
 "nbformat": 4,
 "nbformat_minor": 2
}
