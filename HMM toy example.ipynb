{
 "cells": [
  {
   "cell_type": "code",
   "execution_count": 1,
   "metadata": {},
   "outputs": [],
   "source": [
    "# Jupyter \"magic methods\" -- only need to be run once per kernel restart\n",
    "%load_ext autoreload\n",
    "%aimport helpers\n",
    "%autoreload 1"
   ]
  },
  {
   "cell_type": "code",
   "execution_count": 3,
   "metadata": {},
   "outputs": [],
   "source": [
    "# import python modules -- this cell needs to be run again if you make changes to any of the files\n",
    "import matplotlib.pyplot as plt\n",
    "import numpy as np\n",
    "from numpy import linalg as LA\n",
    "import time\n",
    "\n",
    "from helpers import show_model\n",
    "from pomegranate import State, HiddenMarkovModel, DiscreteDistribution, NormalDistribution"
   ]
  },
  {
   "cell_type": "markdown",
   "metadata": {},
   "source": [
    "We consider a toy example with n=4 hidden states, whose outputs are univariate Gaussians, $\\mathcal{N}(\\mu,\\sigma_i^2)$, with $\\mathbf{A}$ and $\\theta$ given by \n",
    "\n",
    "\\begin{equation*}\n",
    "\\mathbf{A} =  \\begin{matrix}\n",
    "0.7 &  0.0 & 0.2 & 0.5 \\\\\n",
    "0.2 &  0.6 & 0.2 & 0.0 \\\\\n",
    "0.1 &  0.2 & 0.6 & 0.0 \\\\\n",
    "0.0 &  0.2 & 0.0 & 0.5 \\\\\n",
    "\\end{matrix}\n",
    "\\end{equation*}\n",
    "\n",
    "$f_{\\theta_1} = \\mathcal{N}(-4,4)$, $\\quad $ $f_{\\theta_2} = \\mathcal{N}(0,1)$,$\\quad $  $f_{\\theta_3} = \\mathcal{N}(2,36)$,$\\quad $  $f_{\\theta_4} = \\mathcal{N}(4,1)$"
   ]
  },
  {
   "cell_type": "code",
   "execution_count": 4,
   "metadata": {},
   "outputs": [
    {
     "data": {
      "text/plain": [
       "[<matplotlib.lines.Line2D at 0x1a18bc68d0>,\n",
       " <matplotlib.lines.Line2D at 0x1a18bc6ac8>,\n",
       " <matplotlib.lines.Line2D at 0x1a18bd62b0>,\n",
       " <matplotlib.lines.Line2D at 0x1a18bd6710>]"
      ]
     },
     "execution_count": 4,
     "metadata": {},
     "output_type": "execute_result"
    },
    {
     "data": {
      "image/png": "[encoded data removed]",
      "text/plain": [
       "<Figure size 432x288 with 1 Axes>"
      ]
     },
     "metadata": {},
     "output_type": "display_data"
    }
   ],
   "source": [
    "from scipy.stats import norm\n",
    "import matplotlib.pyplot as plt\n",
    "import numpy as np\n",
    "theta_1 = norm(loc = -4., scale = 4.0)\n",
    "theta_2 = norm(loc = 0, scale = 1.0)\n",
    "theta_3 = norm(loc = 2, scale = 36.0)\n",
    "theta_4 = norm(loc = 4., scale = 1)\n",
    "x = np.arange(-20, 20, .1)\n",
    "plt.plot(x, theta_1.pdf(x), x, theta_2.pdf(x), x, theta_3.pdf(x), x, theta_4.pdf(x))"
   ]
  },
  {
   "cell_type": "code",
   "execution_count": 5,
   "metadata": {},
   "outputs": [],
   "source": [
    "gt_model = HiddenMarkovModel(name = \"Toy model\")\n",
    "\n",
    "# emission probability distributions\n",
    "theta_dists = [NormalDistribution(-4, 4), NormalDistribution(0, 1), NormalDistribution(2, 36),NormalDistribution(4,1)]\n",
    "trans_mat = np.array([[0.7, 0.0, 0.2, 0.5],\n",
    "                      [0.2, 0.6, 0.2, 0.0],\n",
    "                      [0.1, 0.2, 0.6, 0.0],\n",
    "                      [0.0, 0.2, 0.0, 0.5],\n",
    "                     ]).transpose()\n",
    "# starts = np.array([1.0, 0.0, 0.0, 0.0])\n",
    "starts = np.array([0.25, 0.25, 0.25, 0.25])\n",
    "ends = np.array([0.0, 0.0 ,0.0, 0.0])\n",
    "\n",
    "gt_model = HiddenMarkovModel.from_matrix(trans_mat, theta_dists, starts, ends)"
   ]
  },
  {
   "cell_type": "code",
   "execution_count": 37,
   "metadata": {},
   "outputs": [
    {
     "name": "stdout",
     "output_type": "stream",
     "text": [
      "Elapsed time is:  0.044738054275512695 sec\n"
     ]
    }
   ],
   "source": [
    "seq_length = 20\n",
    "num_samples = 200\n",
    "keep_path = False\n",
    "random_seed = 2\n",
    "t = time.time()\n",
    "samples = gt_model.sample(n = num_samples, length = seq_length, path = keep_path, random_state = 1)\n",
    "\n",
    "elapsed = time.time() - t\n",
    "print(\"Elapsed time is: \", elapsed, \"sec\")"
   ]
  },
  {
   "cell_type": "code",
   "execution_count": 11,
   "metadata": {},
   "outputs": [
    {
     "data": {
      "text/plain": [
       "array([[-1.06747614e-02,  4.90083472e+00,  5.50300160e+00, ...,\n",
       "        -1.37695893e+01, -3.87470996e+01,  1.59262542e+01],\n",
       "       [ 2.51114146e+00,  2.99940079e+00,  6.76315611e-01, ...,\n",
       "         4.54419762e+00, -4.13658130e+00,  1.46366092e+00],\n",
       "       [ 1.90475966e+00, -3.70925489e+00, -2.52676325e+00, ...,\n",
       "         2.06264513e+01, -5.63307284e+00, -9.35885348e-01],\n",
       "       ...,\n",
       "       [-6.17412508e+00, -5.65943088e+00, -1.57131211e+00, ...,\n",
       "        -2.42955360e+01, -2.55408376e+01,  8.09713660e+01],\n",
       "       [ 2.06788228e+00,  4.46227206e+00, -5.03979746e+00, ...,\n",
       "        -2.74728906e+00, -1.16281035e+01, -5.07728064e-01],\n",
       "       [-6.91610675e+00,  1.45878218e+00,  3.18464129e+00, ...,\n",
       "         2.22889569e-01,  1.01642128e+00,  3.07232173e+00]])"
      ]
     },
     "execution_count": 11,
     "metadata": {},
     "output_type": "execute_result"
    }
   ],
   "source": [
    "\n",
    "samples + np.random.randn(20)"
   ]
  },
  {
   "cell_type": "code",
   "execution_count": 15,
   "metadata": {
    "scrolled": true
   },
   "outputs": [
    {
     "name": "stdout",
     "output_type": "stream",
     "text": [
      "Elapsed time is:  19.526983976364136  sec\n"
     ]
    }
   ],
   "source": [
    "fitted_model = HiddenMarkovModel(name = \"Fitted Toy model\")\n",
    "t = time.time()\n",
    "fitted_model = fitted_model.from_samples(NormalDistribution, n_components=4, X=samples)\n",
    "elapsed = time.time() - t\n",
    "print(\"Elapsed time is: \", elapsed, \" sec\")"
   ]
  },
  {
   "cell_type": "code",
   "execution_count": 22,
   "metadata": {},
   "outputs": [
    {
     "name": "stdout",
     "output_type": "stream",
     "text": [
      "Elapsed time is:  24.402047157287598  sec\n"
     ]
    }
   ],
   "source": [
    "fitted_model_with_noise = HiddenMarkovModel(name = \"Fitted Toy model with noise\")\n",
    "t = time.time()\n",
    "samples_Gaussian_noise = samples + 0.05*np.random.randn(20)\n",
    "fitted_model_with_noise = fitted_model_with_noise.from_samples(NormalDistribution, n_components=4, X=samples_Gaussian_noise)\n",
    "elapsed = time.time() - t\n",
    "print(\"Elapsed time is: \", elapsed, \" sec\")"
   ]
  },
  {
   "cell_type": "code",
   "execution_count": 53,
   "metadata": {},
   "outputs": [
    {
     "name": "stdout",
     "output_type": "stream",
     "text": [
      "Elapsed time is:  10.341312170028687  sec\n"
     ]
    }
   ],
   "source": [
    "import pandas as pd\n",
    "fitted_model_with_filling = HiddenMarkovModel(name = \"Fitted Toy model with filling\")\n",
    "missing_prob = 0.1\n",
    "samples_filling = np.copy(samples)\n",
    "for i, each_sample in enumerate(samples_filling):\n",
    "    mask = np.random.choice([True, False], size=seq_length, p=[missing_prob, 1-missing_prob])\n",
    "    if mask[0] is True:\n",
    "        mask[0] = False\n",
    "    each_sample[mask] = np.NaN\n",
    "    # print(each_sample)\n",
    "    df = pd.DataFrame(each_sample)\n",
    "    df = df.fillna(method='ffill')\n",
    "    samples_filling[i] = df.values.flatten()\n",
    "t = time.time()\n",
    "fitted_model_with_filling = fitted_model_with_filling.from_samples(NormalDistribution, n_components=4, X=samples_filling)\n",
    "elapsed = time.time() - t\n",
    "print(\"Elapsed time is: \", elapsed, \" sec\")"
   ]
  },
  {
   "cell_type": "code",
   "execution_count": 27,
   "metadata": {},
   "outputs": [
    {
     "data": {
      "image/png": "[encoded data removed]",
      "text/plain": [
       "<Figure size 432x288 with 1 Axes>"
      ]
     },
     "metadata": {},
     "output_type": "display_data"
    }
   ],
   "source": [
    "gt_model.plot()"
   ]
  },
  {
   "cell_type": "code",
   "execution_count": 63,
   "metadata": {},
   "outputs": [
    {
     "data": {
      "image/png": "[encoded data removed]",
      "text/plain": [
       "<Figure size 432x288 with 1 Axes>"
      ]
     },
     "metadata": {},
     "output_type": "display_data"
    }
   ],
   "source": [
    "fitted_model.plot()"
   ]
  },
  {
   "cell_type": "code",
   "execution_count": 54,
   "metadata": {
    "scrolled": true
   },
   "outputs": [
    {
     "name": "stdout",
     "output_type": "stream",
     "text": [
      "[[0.70 0.20 0.10 0.00]\n",
      " [0.00 0.60 0.20 0.20]\n",
      " [0.20 0.20 0.60 0.00]\n",
      " [0.50 0.00 0.00 0.50]]\n",
      "[[0.74 0.04 0.09 0.13]\n",
      " [0.23 0.42 0.16 0.19]\n",
      " [0.26 0.12 0.50 0.12]\n",
      " [0.27 0.00 0.07 0.66]]\n",
      "0.5020737267166756\n"
     ]
    }
   ],
   "source": [
    "np.set_printoptions(suppress=True,\n",
    "   formatter={'float_kind':'{:0.2f}'.format})\n",
    "# there are six edges for each state\n",
    "estimated_transition_matrix = fitted_model.dense_transition_matrix()\n",
    "true_transition_matrix = gt_model.dense_transition_matrix()\n",
    "estimated_with_noise_transition_matrix = fitted_model_with_noise.dense_transition_matrix()\n",
    "\n",
    "estimated_with_filling = fitted_model_with_filling.dense_transition_matrix()\n",
    "# print(estimated_transition_matrix)\n",
    "# print(true_transition_matrix)\n",
    "\n",
    "# Since the fitted model have no knowledge of state, \n",
    "# the learned transition matrix is a permutation of true transition matrix\n",
    "import numpy as np\n",
    "from itertools import permutations\n",
    "from numpy import linalg as LA\n",
    "num_states = 4\n",
    "#gt_mat = np.random.rand(num_states+2, num_states+2)\n",
    "# fitted_mat = np.random.rand(num_states+2, num_states+2)\n",
    "gt_mat = true_transition_matrix\n",
    "# fitted_mat = estimated_transition_matrix\n",
    "# fitted_mat = estimated_with_noise_transition_matrix\n",
    "fitted_mat = estimated_with_filling\n",
    "gt_trans = gt_mat[0:num_states, 0:num_states]\n",
    "fitted_trans = fitted_mat[0:num_states, 0:num_states]\n",
    "perms = list(permutations(range(0, num_states))) # this serve as index of permutation\n",
    "min_norm = np.inf\n",
    "best_perm_row = None\n",
    "best_perm_col = None \n",
    "for idx_col in perms:\n",
    "    for idx_row in perms:\n",
    "        curr_norm = LA.norm(gt_trans-fitted_trans[idx_row,:][:,idx_col], ord = 'fro')\n",
    "        # print(curr_norm, idx_row, idx_col)\n",
    "        if curr_norm < min_norm:\n",
    "            best_perm_row = idx_row\n",
    "            best_perm_col = idx_col\n",
    "            min_norm = curr_norm\n",
    "\n",
    "\n",
    "print(gt_trans)\n",
    "#print(fitted_trans)\n",
    "#print(best_perm_row)\n",
    "#print(best_perm_col)\n",
    "#print(fitted_trans[[0,2,1,3],:][:,[0,2,1,3]])\n",
    "print(fitted_trans[best_perm_row,:][:,best_perm_col])\n",
    "print(LA.norm(gt_trans - fitted_trans[best_perm_row,:][:,best_perm_col]))"
   ]
  },
  {
   "cell_type": "code",
   "execution_count": 29,
   "metadata": {},
   "outputs": [],
   "source": [
    "def permutate_trans_matrix(gt_mat, fitted_mat, num_states):\n",
    "    gt_trans = gt_mat[0:num_states, 0:num_states]\n",
    "    fitted_trans = fitted_mat[0:num_states, 0:num_states]\n",
    "    perms = list(permutations(range(0, num_states))) # this serve as index of permutation\n",
    "    min_norm = np.inf\n",
    "    best_perm_row = None\n",
    "    best_perm_col = None \n",
    "    for idx_col in perms:\n",
    "        for idx_row in perms:\n",
    "            curr_norm = LA.norm(gt_trans-fitted_trans[idx_row,:][:,idx_col], ord = 'fro')\n",
    "            # print(curr_norm, idx_row, idx_col)\n",
    "            if curr_norm < min_norm:\n",
    "                best_perm_row = idx_row\n",
    "                best_perm_col = idx_col\n",
    "                min_norm = curr_norm\n",
    "    return min_norm, best_perm_row, best_perm_col\n"
   ]
  },
  {
   "cell_type": "code",
   "execution_count": 31,
   "metadata": {},
   "outputs": [
    {
     "name": "stdout",
     "output_type": "stream",
     "text": [
      "running 0 / 5\n",
      "running 1 / 5\n",
      "running 2 / 5\n",
      "running 3 / 5\n",
      "running 4 / 5\n",
      "0.43221769273744826\n",
      "[[0.49 0.49 0.49 0.49 0.49]\n",
      " [0.49 0.49 0.49 0.49 0.49]\n",
      " [0.39 0.39 0.39 0.39 0.39]\n",
      " [0.39 0.39 0.39 0.39 0.39]\n",
      " [0.39 0.39 0.39 0.39 0.39]]\n"
     ]
    }
   ],
   "source": [
    "theta_dists = [NormalDistribution(-4, 4), NormalDistribution(0, 1), NormalDistribution(2, 36),NormalDistribution(4,1)]\n",
    "trans_mat = np.array([[0.7, 0.0, 0.2, 0.5],\n",
    "                      [0.2, 0.6, 0.2, 0.0],\n",
    "                      [0.1, 0.2, 0.6, 0.0],\n",
    "                      [0.0, 0.2, 0.0, 0.5],\n",
    "                     ]).transpose()\n",
    "# starts = np.array([1.0, 0.0, 0.0, 0.0])\n",
    "starts = np.array([0.25, 0.25, 0.25, 0.25])\n",
    "ends = np.array([0.0, 0.0 ,0.0, 0.0])\n",
    "num_states = 4\n",
    "gt_model = HiddenMarkovModel.from_matrix(trans_mat, theta_dists, starts, ends)\n",
    "fitted_model = HiddenMarkovModel(name = \"Fitted Toy model\")\n",
    "# sampling parameter\n",
    "seq_length = 20\n",
    "num_samples = 200\n",
    "keep_path = False\n",
    "sigma = np.array([0.01, 0.05, 0.07, 0.1, 0.2])\n",
    "\n",
    "num_runs = 5\n",
    "error = np.zeros(num_runs)\n",
    "error_noise1 = np.zeros((num_runs, sigma.shape[0]))\n",
    "for run in range(num_runs):\n",
    "    print(\"running\" , run, '/', num_runs);\n",
    "    random_seed = time.time()\n",
    "    samples = gt_model.sample(n = num_samples, length = seq_length, path = keep_path, random_state = 1)\n",
    "    fitted_model = fitted_model.from_samples(NormalDistribution, n_components=4, X=samples)\n",
    "    [min_norm, best_perm_row, best_perm_col]=permutate_trans_matrix(gt_model.dense_transition_matrix(), fitted_model.dense_transition_matrix(), num_states)\n",
    "    error[run] = min_norm\n",
    "    for i, s in enumerate(sigma):\n",
    "        fitted_model_with_noise = HiddenMarkovModel(name = \"Fitted Toy model with noise\")\n",
    "        noisy_samples = samples + s * np.random.randn(seq_length)\n",
    "        fitted_model_with_noise = fitted_model_with_noise.from_samples(NormalDistribution, n_components=4, X=noisy_samples)\n",
    "        [min_norm, best_perm_row, best_perm_col]=permutate_trans_matrix(gt_model.dense_transition_matrix(), fitted_model.dense_transition_matrix(), num_states)\n",
    "        error_noise1[run, i] = min_norm\n",
    "print(np.mean(error))  \n",
    "print(error_noise1)"
   ]
  },
  {
   "cell_type": "markdown",
   "metadata": {},
   "source": [
    "Lets try with different noise model.\n",
    "In first noise model, We apply the same Guassian noise to all observations.\n",
    "In second noise model, we encountered missing values in the sequence. The assumption is that the data is missing at random and the model parameters corresponding to the missing data are separate from the model parameters of the observed data. Then we fill the missing value with previous non-missing value."
   ]
  },
  {
   "cell_type": "code",
   "execution_count": 33,
   "metadata": {},
   "outputs": [],
   "source": [
    "import numpy as np\n",
    "def _rolling_window(a, window):\n",
    "    \"\"\"\n",
    "    [True, True, False, True, False], 2 ->\n",
    "    [\n",
    "        [True,  True],\n",
    "        [True, False],\n",
    "        [False, True],\n",
    "        [True, False],\n",
    "    ]\n",
    "    \"\"\"\n",
    "    # https://stackoverflow.com/a/6811241\n",
    "    shape = a.shape[:-1] + (a.shape[-1] - window + 1, window)\n",
    "    strides = a.strides + (a.strides[-1],)\n",
    "    return np.lib.stride_tricks.as_strided(a, shape=shape, strides=strides)\n",
    "\n",
    "_rolling_window(np.array([True, True, False, True, False]), 2)"
   ]
  },
  {
   "cell_type": "code",
   "execution_count": 35,
   "metadata": {},
   "outputs": [
    {
     "data": {
      "text/plain": [
       "array([[ True,  True],\n",
       "       [ True, False],\n",
       "       [False,  True],\n",
       "       [ True, False]])"
      ]
     },
     "execution_count": 35,
     "metadata": {},
     "output_type": "execute_result"
    }
   ],
   "source": []
  },
  {
   "cell_type": "code",
   "execution_count": null,
   "metadata": {},
   "outputs": [],
   "source": []
  }
 ],
 "metadata": {
  "kernelspec": {
   "display_name": "Python 3",
   "language": "python",
   "name": "python3"
  },
  "language_info": {
   "codemirror_mode": {
    "name": "ipython",
    "version": 3
   },
   "file_extension": ".py",
   "mimetype": "text/x-python",
   "name": "python",
   "nbconvert_exporter": "python",
   "pygments_lexer": "ipython3",
   "version": "3.5.4"
  }
 },
 "nbformat": 4,
 "nbformat_minor": 2
}
