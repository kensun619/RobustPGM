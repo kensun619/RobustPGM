{
 "cells": [
  {
   "cell_type": "code",
   "execution_count": 2,
   "metadata": {},
   "outputs": [],
   "source": [
    "# Jupyter \"magic methods\" -- only need to be run once per kernel restart\n",
    "%load_ext autoreload\n",
    "%aimport helpers\n",
    "%autoreload 1"
   ]
  },
  {
   "cell_type": "code",
   "execution_count": 18,
   "metadata": {},
   "outputs": [],
   "source": [
    "# import python modules -- this cell needs to be run again if you make changes to any of the files\n",
    "import matplotlib.pyplot as plt\n",
    "import numpy as np\n",
    "import numpy.linalg.norm as norm\n",
    "import time\n",
    "\n",
    "from helpers import show_model\n",
    "from pomegranate import State, HiddenMarkovModel, DiscreteDistribution, NormalDistribution"
   ]
  },
  {
   "cell_type": "markdown",
   "metadata": {},
   "source": [
    "We consider a toy example with n=4 hidden states, whose outputs are univariate Gaussians, $\\mathcal{N}(\\mu,\\sigma_i^2)$, with $\\mathbf{A}$ and $\\theta$ given by \n",
    "\n",
    "\\begin{equation*}\n",
    "\\mathbf{A} =  \\begin{matrix}\n",
    "0.7 &  0.0 & 0.2 & 0.5 \\\\\n",
    "0.2 &  0.6 & 0.2 & 0.0 \\\\\n",
    "0.1 &  0.2 & 0.6 & 0.0 \\\\\n",
    "0.0 &  0.2 & 0.0 & 0.5 \\\\\n",
    "\\end{matrix}\n",
    "\\end{equation*}\n",
    "\n",
    "$f_{\\theta_1} = \\mathcal{N}(-4,4)$, $\\quad $ $f_{\\theta_2} = \\mathcal{N}(0,1)$,$\\quad $  $f_{\\theta_3} = \\mathcal{N}(2,36)$,$\\quad $  $f_{\\theta_4} = \\mathcal{N}(4,1)$"
   ]
  },
  {
   "cell_type": "code",
   "execution_count": 26,
   "metadata": {},
   "outputs": [],
   "source": [
    "gt_model = HiddenMarkovModel(name = \"Toy model\")\n",
    "\n",
    "# emission probability distributions\n",
    "theta_dists = [NormalDistribution(-4, 4), NormalDistribution(0, 1), NormalDistribution(2, 36),NormalDistribution(4,1)]\n",
    "trans_mat = np.array([[0.7, 0.0, 0.2, 0.5],\n",
    "                      [0.2, 0.6, 0.2, 0.0],\n",
    "                      [0.1, 0.2, 0.6, 0.0],\n",
    "                      [0.0, 0.2, 0.0, 0.5],\n",
    "                     ]).transpose()\n",
    "# starts = np.array([1.0, 0.0, 0.0, 0.0])\n",
    "starts = np.array([0.25, 0.25, 0.25, 0.25])\n",
    "ends = np.array([0.0, 0.0 ,0.0, 0.0])\n",
    "\n",
    "gt_model = HiddenMarkovModel.from_matrix(trans_mat, theta_dists, starts, ends)"
   ]
  },
  {
   "cell_type": "code",
   "execution_count": 28,
   "metadata": {},
   "outputs": [
    {
     "name": "stdout",
     "output_type": "stream",
     "text": [
      "Elapsed time is:  0.4430999755859375\n"
     ]
    }
   ],
   "source": [
    "\n",
    "num_samples = 5000\n",
    "keep_path = False\n",
    "random_seed = 0\n",
    "t = time.time()\n",
    "samples = gt_model.sample(n = num_samples, length = 10, path = keep_path, random_state = 1)\n",
    "elapsed = time.time() - t\n",
    "print(\"Elapsed time is: \", elapsed, \" sec\")"
   ]
  },
  {
   "cell_type": "code",
   "execution_count": null,
   "metadata": {
    "scrolled": true
   },
   "outputs": [],
   "source": [
    "fitted_model = HiddenMarkovModel(name = \"Fitted Toy model\")\n",
    "t = time.time()\n",
    "fitted_model = fitted_model.from_samples(NormalDistribution, n_components=4, X=samples)\n",
    "elapsed = time.time() - t\n",
    "print(\"Elapsed time is: \", elapsed)"
   ]
  },
  {
   "cell_type": "code",
   "execution_count": 27,
   "metadata": {},
   "outputs": [
    {
     "data": {
      "image/png": "[encoded data removed]",
      "text/plain": [
       "<Figure size 432x288 with 1 Axes>"
      ]
     },
     "metadata": {},
     "output_type": "display_data"
    }
   ],
   "source": [
    "gt_model.plot()"
   ]
  },
  {
   "cell_type": "code",
   "execution_count": null,
   "metadata": {},
   "outputs": [],
   "source": [
    "fitted_model.plot()"
   ]
  },
  {
   "cell_type": "code",
   "execution_count": 21,
   "metadata": {
    "scrolled": true
   },
   "outputs": [
    {
     "data": {
      "text/plain": [
       "array([[6.97590814e-01, 9.04809460e-03, 1.99858799e-01, 9.35022926e-02,\n",
       "        0.00000000e+00, 0.00000000e+00],\n",
       "       [1.62621982e-01, 2.49994732e-01, 2.76888311e-01, 3.10494976e-01,\n",
       "        0.00000000e+00, 0.00000000e+00],\n",
       "       [2.48782234e-01, 3.64340879e-03, 6.52876394e-01, 9.46979637e-02,\n",
       "        0.00000000e+00, 0.00000000e+00],\n",
       "       [4.06607728e-01, 6.83645325e-17, 1.98714099e-01, 3.94678173e-01,\n",
       "        0.00000000e+00, 0.00000000e+00],\n",
       "       [5.78061000e-01, 7.97814521e-03, 2.42312397e-01, 1.71648458e-01,\n",
       "        0.00000000e+00, 0.00000000e+00],\n",
       "       [0.00000000e+00, 0.00000000e+00, 0.00000000e+00, 0.00000000e+00,\n",
       "        0.00000000e+00, 0.00000000e+00]])"
      ]
     },
     "execution_count": 21,
     "metadata": {},
     "output_type": "execute_result"
    }
   ],
   "source": [
    "# there are six edges for each state\n",
    "fitted_model.dense_transition_matrix()"
   ]
  },
  {
   "cell_type": "code",
   "execution_count": null,
   "metadata": {},
   "outputs": [],
   "source": []
  }
 ],
 "metadata": {
  "kernelspec": {
   "display_name": "Python 3",
   "language": "python",
   "name": "python3"
  },
  "language_info": {
   "codemirror_mode": {
    "name": "ipython",
    "version": 3
   },
   "file_extension": ".py",
   "mimetype": "text/x-python",
   "name": "python",
   "nbconvert_exporter": "python",
   "pygments_lexer": "ipython3",
   "version": "3.5.4"
  }
 },
 "nbformat": 4,
 "nbformat_minor": 2
}
